{
 "cells": [
  {
   "cell_type": "code",
   "execution_count": 2,
   "metadata": {},
   "outputs": [],
   "source": [
    "import menpo3d\n",
    "import trimesh\n",
    "import menpo\n",
    "from menpo3d.correspond import nicp\n",
    "from menpo3d import io\n",
    "from menpo.model import PCAModel\n",
    "from sksparse.cholmod import cholesky_AAt\n"
   ]
  },
  {
   "cell_type": "code",
   "execution_count": 3,
   "metadata": {},
   "outputs": [
    {
     "name": "stdout",
     "output_type": "stream",
     "text": [
      "using user-defined stiffness_weights\n",
      "Using global stiffness_weights\n",
      "Not customising data_weights\n",
      "1/1: stiffness: 50\n"
     ]
    },
    {
     "name": "stderr",
     "output_type": "stream",
     "text": [
      "/usr/local/anaconda3/envs/menpo/lib/python3.9/site-packages/menpo3d/correspond/nicp.py:31: UserWarning: Unable to duplicate stdout file descriptor, likely due to stdout having been replaced (e.g. a notebook)\n",
      "  warnings.warn(\n"
     ]
    },
    {
     "ename": "CholmodNotPositiveDefiniteError",
     "evalue": "../Supernodal/t_cholmod_super_numeric.c:911: matrix not positive definite (code 1)",
     "output_type": "error",
     "traceback": [
      "\u001b[0;31m---------------------------------------------------------------------------\u001b[0m",
      "\u001b[0;31mUnsupportedOperation\u001b[0m                      Traceback (most recent call last)",
      "\u001b[0;32m/usr/local/anaconda3/envs/menpo/lib/python3.9/site-packages/menpo3d/correspond/nicp.py\u001b[0m in \u001b[0;36mstdout_redirected\u001b[0;34m(to)\u001b[0m\n\u001b[1;32m     24\u001b[0m     \u001b[0;32mtry\u001b[0m\u001b[0;34m:\u001b[0m\u001b[0;34m\u001b[0m\u001b[0;34m\u001b[0m\u001b[0m\n\u001b[0;32m---> 25\u001b[0;31m         \u001b[0mfd\u001b[0m \u001b[0;34m=\u001b[0m \u001b[0msys\u001b[0m\u001b[0;34m.\u001b[0m\u001b[0mstdout\u001b[0m\u001b[0;34m.\u001b[0m\u001b[0mfileno\u001b[0m\u001b[0;34m(\u001b[0m\u001b[0;34m)\u001b[0m\u001b[0;34m\u001b[0m\u001b[0;34m\u001b[0m\u001b[0m\n\u001b[0m\u001b[1;32m     26\u001b[0m     \u001b[0;32mexcept\u001b[0m \u001b[0mUnsupportedOperation\u001b[0m\u001b[0;34m:\u001b[0m\u001b[0;34m\u001b[0m\u001b[0;34m\u001b[0m\u001b[0m\n",
      "\u001b[0;31mUnsupportedOperation\u001b[0m: fileno",
      "\nDuring handling of the above exception, another exception occurred:\n",
      "\u001b[0;31mCholmodNotPositiveDefiniteError\u001b[0m           Traceback (most recent call last)",
      "\u001b[0;32m<ipython-input-3-e86683175e9b>\u001b[0m in \u001b[0;36m<module>\u001b[0;34m\u001b[0m\n\u001b[1;32m      6\u001b[0m \u001b[0mmenpo_mesh_toright\u001b[0m \u001b[0;34m=\u001b[0m \u001b[0mmenpo\u001b[0m\u001b[0;34m.\u001b[0m\u001b[0mshape\u001b[0m\u001b[0;34m.\u001b[0m\u001b[0mTriMesh\u001b[0m\u001b[0;34m(\u001b[0m\u001b[0mtrimesh_mesh_toright\u001b[0m\u001b[0;34m.\u001b[0m\u001b[0mvertices\u001b[0m\u001b[0;34m,\u001b[0m \u001b[0mtrilist\u001b[0m\u001b[0;34m=\u001b[0m\u001b[0mtrimesh_mesh_toright\u001b[0m\u001b[0;34m.\u001b[0m\u001b[0mfaces\u001b[0m\u001b[0;34m)\u001b[0m\u001b[0;34m\u001b[0m\u001b[0;34m\u001b[0m\u001b[0m\n\u001b[1;32m      7\u001b[0m \u001b[0;34m\u001b[0m\u001b[0m\n\u001b[0;32m----> 8\u001b[0;31m \u001b[0mresult\u001b[0m \u001b[0;34m=\u001b[0m \u001b[0mnicp\u001b[0m\u001b[0;34m.\u001b[0m\u001b[0mnon_rigid_icp\u001b[0m\u001b[0;34m(\u001b[0m\u001b[0mmenpo_mesh_mid\u001b[0m\u001b[0;34m,\u001b[0m \u001b[0mmenpo_mesh_toright\u001b[0m\u001b[0;34m,\u001b[0m \u001b[0mlandmark_group\u001b[0m\u001b[0;34m=\u001b[0m\u001b[0;32mNone\u001b[0m\u001b[0;34m,\u001b[0m \u001b[0mverbose\u001b[0m\u001b[0;34m=\u001b[0m\u001b[0;32mTrue\u001b[0m\u001b[0;34m,\u001b[0m \u001b[0mstiffness_weights\u001b[0m\u001b[0;34m=\u001b[0m\u001b[0;34m[\u001b[0m\u001b[0;36m50\u001b[0m\u001b[0;34m]\u001b[0m\u001b[0;34m)\u001b[0m\u001b[0;34m\u001b[0m\u001b[0;34m\u001b[0m\u001b[0m\n\u001b[0m",
      "\u001b[0;32m/usr/local/anaconda3/envs/menpo/lib/python3.9/site-packages/menpo3d/correspond/nicp.py\u001b[0m in \u001b[0;36mnon_rigid_icp\u001b[0;34m(source, target, eps, landmark_group, stiffness_weights, data_weights, landmark_weights, generate_instances, verbose)\u001b[0m\n\u001b[1;32m    155\u001b[0m     \u001b[0;31m# the handler decides whether the user get's details and each iteration\u001b[0m\u001b[0;34m\u001b[0m\u001b[0;34m\u001b[0m\u001b[0;34m\u001b[0m\u001b[0m\n\u001b[1;32m    156\u001b[0m     \u001b[0;31m# returned, or just the final result.\u001b[0m\u001b[0;34m\u001b[0m\u001b[0;34m\u001b[0m\u001b[0;34m\u001b[0m\u001b[0m\n\u001b[0;32m--> 157\u001b[0;31m     \u001b[0;32mreturn\u001b[0m \u001b[0mnon_rigid_icp_generator_handler\u001b[0m\u001b[0;34m(\u001b[0m\u001b[0mgenerator\u001b[0m\u001b[0;34m,\u001b[0m \u001b[0mgenerate_instances\u001b[0m\u001b[0;34m)\u001b[0m\u001b[0;34m\u001b[0m\u001b[0;34m\u001b[0m\u001b[0m\n\u001b[0m\u001b[1;32m    158\u001b[0m \u001b[0;34m\u001b[0m\u001b[0m\n\u001b[1;32m    159\u001b[0m \u001b[0;34m\u001b[0m\u001b[0m\n",
      "\u001b[0;32m/usr/local/anaconda3/envs/menpo/lib/python3.9/site-packages/menpo3d/correspond/nicp.py\u001b[0m in \u001b[0;36mnon_rigid_icp_generator_handler\u001b[0;34m(generator, generate_instances)\u001b[0m\n\u001b[1;32m    236\u001b[0m         \u001b[0;32mwhile\u001b[0m \u001b[0;32mTrue\u001b[0m\u001b[0;34m:\u001b[0m\u001b[0;34m\u001b[0m\u001b[0;34m\u001b[0m\u001b[0m\n\u001b[1;32m    237\u001b[0m             \u001b[0;32mtry\u001b[0m\u001b[0;34m:\u001b[0m\u001b[0;34m\u001b[0m\u001b[0;34m\u001b[0m\u001b[0m\n\u001b[0;32m--> 238\u001b[0;31m                 \u001b[0minstance\u001b[0m \u001b[0;34m=\u001b[0m \u001b[0mnext\u001b[0m\u001b[0;34m(\u001b[0m\u001b[0mgenerator\u001b[0m\u001b[0;34m)\u001b[0m\u001b[0;34m\u001b[0m\u001b[0;34m\u001b[0m\u001b[0m\n\u001b[0m\u001b[1;32m    239\u001b[0m             \u001b[0;32mexcept\u001b[0m \u001b[0mStopIteration\u001b[0m\u001b[0;34m:\u001b[0m\u001b[0;34m\u001b[0m\u001b[0;34m\u001b[0m\u001b[0m\n\u001b[1;32m    240\u001b[0m                 \u001b[0;32mreturn\u001b[0m \u001b[0minstance\u001b[0m\u001b[0;34m[\u001b[0m\u001b[0;36m0\u001b[0m\u001b[0;34m]\u001b[0m\u001b[0;34m\u001b[0m\u001b[0;34m\u001b[0m\u001b[0m\n",
      "\u001b[0;32m/usr/local/anaconda3/envs/menpo/lib/python3.9/site-packages/menpo3d/correspond/nicp.py\u001b[0m in \u001b[0;36mnon_rigid_icp_generator\u001b[0;34m(source, target, eps, stiffness_weights, data_weights, landmark_group, landmark_weights, v_i_update_func, verbose)\u001b[0m\n\u001b[1;32m    495\u001b[0m             \u001b[0mA_s\u001b[0m \u001b[0;34m=\u001b[0m \u001b[0msp\u001b[0m\u001b[0;34m.\u001b[0m\u001b[0mvstack\u001b[0m\u001b[0;34m(\u001b[0m\u001b[0mto_stack_A\u001b[0m\u001b[0;34m)\u001b[0m\u001b[0;34m.\u001b[0m\u001b[0mtocsr\u001b[0m\u001b[0;34m(\u001b[0m\u001b[0;34m)\u001b[0m\u001b[0;34m\u001b[0m\u001b[0;34m\u001b[0m\u001b[0m\n\u001b[1;32m    496\u001b[0m             \u001b[0mB_s\u001b[0m \u001b[0;34m=\u001b[0m \u001b[0msp\u001b[0m\u001b[0;34m.\u001b[0m\u001b[0mvstack\u001b[0m\u001b[0;34m(\u001b[0m\u001b[0mto_stack_B\u001b[0m\u001b[0;34m)\u001b[0m\u001b[0;34m.\u001b[0m\u001b[0mtocsr\u001b[0m\u001b[0;34m(\u001b[0m\u001b[0;34m)\u001b[0m\u001b[0;34m\u001b[0m\u001b[0;34m\u001b[0m\u001b[0m\n\u001b[0;32m--> 497\u001b[0;31m             \u001b[0mX\u001b[0m \u001b[0;34m=\u001b[0m \u001b[0mspsolve\u001b[0m\u001b[0;34m(\u001b[0m\u001b[0mA_s\u001b[0m\u001b[0;34m,\u001b[0m \u001b[0mB_s\u001b[0m\u001b[0;34m)\u001b[0m\u001b[0;34m\u001b[0m\u001b[0;34m\u001b[0m\u001b[0m\n\u001b[0m\u001b[1;32m    498\u001b[0m \u001b[0;34m\u001b[0m\u001b[0m\n\u001b[1;32m    499\u001b[0m             \u001b[0;31m# deform template\u001b[0m\u001b[0;34m\u001b[0m\u001b[0;34m\u001b[0m\u001b[0;34m\u001b[0m\u001b[0m\n",
      "\u001b[0;32m/usr/local/anaconda3/envs/menpo/lib/python3.9/site-packages/menpo3d/correspond/nicp.py\u001b[0m in \u001b[0;36mspsolve\u001b[0;34m(sparse_X, dense_b)\u001b[0m\n\u001b[1;32m     68\u001b[0m         \u001b[0;31m# prints come from METIS, but the solution behaves as normal)\u001b[0m\u001b[0;34m\u001b[0m\u001b[0;34m\u001b[0m\u001b[0;34m\u001b[0m\u001b[0m\n\u001b[1;32m     69\u001b[0m         \u001b[0;32mwith\u001b[0m \u001b[0mstdout_redirected\u001b[0m\u001b[0;34m(\u001b[0m\u001b[0;34m)\u001b[0m\u001b[0;34m:\u001b[0m\u001b[0;34m\u001b[0m\u001b[0;34m\u001b[0m\u001b[0m\n\u001b[0;32m---> 70\u001b[0;31m             \u001b[0mfactor\u001b[0m \u001b[0;34m=\u001b[0m \u001b[0mcholesky_AAt\u001b[0m\u001b[0;34m(\u001b[0m\u001b[0msparse_X\u001b[0m\u001b[0;34m.\u001b[0m\u001b[0mT\u001b[0m\u001b[0;34m)\u001b[0m\u001b[0;34m\u001b[0m\u001b[0;34m\u001b[0m\u001b[0m\n\u001b[0m\u001b[1;32m     71\u001b[0m         \u001b[0;32mreturn\u001b[0m \u001b[0mfactor\u001b[0m\u001b[0;34m(\u001b[0m\u001b[0msparse_X\u001b[0m\u001b[0;34m.\u001b[0m\u001b[0mT\u001b[0m\u001b[0;34m.\u001b[0m\u001b[0mdot\u001b[0m\u001b[0;34m(\u001b[0m\u001b[0mdense_b\u001b[0m\u001b[0;34m)\u001b[0m\u001b[0;34m)\u001b[0m\u001b[0;34m.\u001b[0m\u001b[0mtoarray\u001b[0m\u001b[0;34m(\u001b[0m\u001b[0;34m)\u001b[0m\u001b[0;34m\u001b[0m\u001b[0;34m\u001b[0m\u001b[0m\n\u001b[1;32m     72\u001b[0m \u001b[0;34m\u001b[0m\u001b[0m\n",
      "\u001b[0;32msksparse/cholmod.pyx\u001b[0m in \u001b[0;36msksparse.cholmod.cholesky_AAt\u001b[0;34m()\u001b[0m\n",
      "\u001b[0;32msksparse/cholmod.pyx\u001b[0m in \u001b[0;36msksparse.cholmod._cholesky\u001b[0;34m()\u001b[0m\n",
      "\u001b[0;32msksparse/cholmod.pyx\u001b[0m in \u001b[0;36msksparse.cholmod.Factor._cholesky_inplace\u001b[0;34m()\u001b[0m\n",
      "\u001b[0;32msksparse/cholmod.pyx\u001b[0m in \u001b[0;36msksparse.cholmod.Factor._cholesky_inplace\u001b[0;34m()\u001b[0m\n",
      "\u001b[0;32msksparse/cholmod.pyx\u001b[0m in \u001b[0;36msksparse.cholmod._error_handler\u001b[0;34m()\u001b[0m\n",
      "\u001b[0;31mCholmodNotPositiveDefiniteError\u001b[0m: ../Supernodal/t_cholmod_super_numeric.c:911: matrix not positive definite (code 1)"
     ]
    }
   ],
   "source": [
    "# template\n",
    "trimesh_mesh_mid = trimesh.load_mesh(\"/Users/tianyizuo/FYP/Landmarks/out/mid.obj\")\n",
    "menpo_mesh_mid = menpo.shape.TriMesh(trimesh_mesh_mid.vertices, trilist=trimesh_mesh_mid.faces)\n",
    "\n",
    "trimesh_mesh_toright = trimesh.load_mesh(\"/Users/tianyizuo/FYP/Landmarks/out/affine_2_to_0.obj\")\n",
    "menpo_mesh_toright = menpo.shape.TriMesh(trimesh_mesh_toright.vertices, trilist=trimesh_mesh_toright.faces)\n",
    "\n",
    "result = nicp.non_rigid_icp(menpo_mesh_mid, menpo_mesh_toright, landmark_group=None, verbose=True, stiffness_weights=[50])\n"
   ]
  },
  {
   "cell_type": "code",
   "execution_count": null,
   "metadata": {},
   "outputs": [],
   "source": [
    "#trimesh_mesh_mid.n_parameters = 100 #just set some random number\n",
    "pca = PCAModel([menpo_mesh_mid, result])"
   ]
  },
  {
   "cell_type": "code",
   "execution_count": null,
   "metadata": {},
   "outputs": [],
   "source": [
    "print(pca)\n",
    "io.output.base.export_mesh(result, open(\"./out/result.obj\", \"wb\"), extension=\"obj\", overwrite=True)\n"
   ]
  },
  {
   "cell_type": "code",
   "execution_count": null,
   "metadata": {},
   "outputs": [],
   "source": []
  },
  {
   "cell_type": "code",
   "execution_count": null,
   "metadata": {},
   "outputs": [],
   "source": []
  }
 ],
 "metadata": {
  "kernelspec": {
   "display_name": "menpo",
   "language": "python",
   "name": "menpo"
  },
  "language_info": {
   "codemirror_mode": {
    "name": "ipython",
    "version": 3
   },
   "file_extension": ".py",
   "mimetype": "text/x-python",
   "name": "python",
   "nbconvert_exporter": "python",
   "pygments_lexer": "ipython3",
   "version": "3.9.4"
  }
 },
 "nbformat": 4,
 "nbformat_minor": 4
}
