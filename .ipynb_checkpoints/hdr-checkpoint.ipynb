{
 "cells": [
  {
   "cell_type": "code",
   "execution_count": 1,
   "metadata": {},
   "outputs": [],
   "source": [
    "import menpo3d\n",
    "import trimesh\n",
    "import menpo\n",
    "from menpo3d.correspond import nicp\n",
    "from menpo3d import io\n",
    "from menpo.model import PCAModel\n",
    "from sksparse.cholmod import cholesky_AAt\n"
   ]
  },
  {
   "cell_type": "code",
   "execution_count": null,
   "metadata": {},
   "outputs": [],
   "source": [
    "# template\n",
    "trimesh_mesh_mid = trimesh.load_mesh(\"/Users/tianyizuo/FYP/Landmarks/out/mid.obj\")\n",
    "menpo_mesh_mid = menpo.shape.TriMesh(trimesh_mesh_mid.vertices, trilist=trimesh_mesh_mid.faces)\n",
    "\n",
    "trimesh_mesh_toright = trimesh.load_mesh(\"/Users/tianyizuo/FYP/Landmarks/out/affine_2_to_0.obj\")\n",
    "menpo_mesh_toright = menpo.shape.TriMesh(trimesh_mesh_toright.vertices, trilist=trimesh_mesh_toright.faces)\n",
    "\n",
    "result = nicp.non_rigid_icp(menpo_mesh_mid, menpo_mesh_toright, landmark_group=None, verbose=True, stiffness_weights=[50])\n"
   ]
  },
  {
   "cell_type": "code",
   "execution_count": null,
   "metadata": {},
   "outputs": [],
   "source": [
    "#trimesh_mesh_mid.n_parameters = 100 #just set some random number\n",
    "pca = PCAModel([menpo_mesh_mid, result])"
   ]
  },
  {
   "cell_type": "code",
   "execution_count": null,
   "metadata": {},
   "outputs": [],
   "source": [
    "print(pca)\n",
    "io.output.base.export_mesh(result, open(\"./out/result.obj\", \"wb\"), extension=\"obj\", overwrite=True)\n"
   ]
  },
  {
   "cell_type": "code",
   "execution_count": null,
   "metadata": {},
   "outputs": [],
   "source": []
  }
 ],
 "metadata": {
  "kernelspec": {
   "display_name": "menpo",
   "language": "python",
   "name": "menpo"
  },
  "language_info": {
   "codemirror_mode": {
    "name": "ipython",
    "version": 3
   },
   "file_extension": ".py",
   "mimetype": "text/x-python",
   "name": "python",
   "nbconvert_exporter": "python",
   "pygments_lexer": "ipython3",
   "version": "3.9.4"
  }
 },
 "nbformat": 4,
 "nbformat_minor": 4
}
